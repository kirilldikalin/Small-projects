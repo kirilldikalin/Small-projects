{
 "cells": [
  {
   "cell_type": "code",
   "execution_count": 1,
   "id": "e0ea43f9",
   "metadata": {},
   "outputs": [],
   "source": [
    "import win32clipboard\n",
    "import time\n",
    "import threading"
   ]
  },
  {
   "cell_type": "code",
   "execution_count": 2,
   "id": "c20c20df",
   "metadata": {},
   "outputs": [],
   "source": [
    "counter = 0\n",
    "\n",
    "clips = ['','','','',''] # указываем количество копирований с которыми будем работать\n",
    "\n",
    "def process_input():\n",
    "    while True:\n",
    "        choice = int(input())\n",
    "        win32clipboard.OpenClipboard()\n",
    "        win32clipboard.EmptyClipboard()\n",
    "        win32clipboard.SetClipboardText(clips[choice], win32clipboard.CF_TEXT)\n",
    "        win32clipboard.CloseClipboard()"
   ]
  },
  {
   "cell_type": "code",
   "execution_count": null,
   "id": "f9b8d534",
   "metadata": {
    "scrolled": false
   },
   "outputs": [
    {
     "name": "stdout",
     "output_type": "stream",
     "text": [
      "['pboard.GetClipboardData()\\r\\n    win32clipboard.CloseClipb', '', '', '', '']\n",
      "['pboard.GetClipboardData()\\r\\n    win32clipboard.CloseClipb', 'while True:', '', '', '']\n",
      "['pboard.GetClipboardData()\\r\\n    win32clipboard.CloseClipb', 'while True:', 't.start()', '', '']\n",
      "['pboard.GetClipboardData()\\r\\n    win32clipboard.CloseClipb', 'while True:', 't.start()', 'counter = 0', '']\n",
      "['pboard.GetClipboardData()\\r\\n    win32clipboard.CloseClipb', 'while True:', 't.start()', 'counter = 0', 'import win32clipboard']\n",
      "['import time', 'while True:', 't.start()', 'counter = 0', 'import win32clipboard']\n",
      "['import time', 'import threading', 't.start()', 'counter = 0', 'import win32clipboard']\n"
     ]
    }
   ],
   "source": [
    "t = threading.Thread(target=process_input)\n",
    "t.start()\n",
    "\n",
    "while True:\n",
    "    win32clipboard.OpenClipboard()\n",
    "    data = win32clipboard.GetClipboardData()\n",
    "    win32clipboard.CloseClipboard()\n",
    "    if data not in clips:\n",
    "        clips[counter] = data\n",
    "        counter += 1\n",
    "        counter %= 5 # изменяем, если изменяем количество копирований\n",
    "        print(clips)\n",
    "    time.sleep(0.5)"
   ]
  }
 ],
 "metadata": {
  "kernelspec": {
   "display_name": "Python 3",
   "language": "python",
   "name": "python3"
  },
  "language_info": {
   "codemirror_mode": {
    "name": "ipython",
    "version": 3
   },
   "file_extension": ".py",
   "mimetype": "text/x-python",
   "name": "python",
   "nbconvert_exporter": "python",
   "pygments_lexer": "ipython3",
   "version": "3.8.5"
  }
 },
 "nbformat": 4,
 "nbformat_minor": 5
}
