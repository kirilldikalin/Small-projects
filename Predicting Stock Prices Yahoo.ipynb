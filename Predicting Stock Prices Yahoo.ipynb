{
 "cells": [
  {
   "cell_type": "markdown",
   "id": "43e71b3e",
   "metadata": {},
   "source": [
    "Импорт нужных библиотек"
   ]
  },
  {
   "cell_type": "code",
   "execution_count": 1,
   "id": "bd8f8968",
   "metadata": {},
   "outputs": [],
   "source": [
    "import numpy as np\n",
    "import matplotlib.pyplot as plt\n",
    "import pandas as pd\n",
    "import pandas_datareader as web\n",
    "import datetime as dt\n",
    "\n",
    "from sklearn.preprocessing import MinMaxScaler\n",
    "from tensorflow.keras.models import Sequential\n",
    "from tensorflow.keras.layers import Dense, Dropout, LSTM #LongShortTermMemory"
   ]
  },
  {
   "cell_type": "markdown",
   "id": "5a343fe1",
   "metadata": {},
   "source": [
    "Загрузка данных"
   ]
  },
  {
   "cell_type": "code",
   "execution_count": 2,
   "id": "b8bfa004",
   "metadata": {},
   "outputs": [],
   "source": [
    "company = 'AAPL'\n",
    "\n",
    "start = dt.datetime(2012, 1, 1) #1 января \n",
    "end = dt.datetime(2021, 1, 1)\n",
    "\n",
    "data = web.DataReader(company, 'yahoo', start, end)"
   ]
  },
  {
   "cell_type": "markdown",
   "id": "c97a30bb",
   "metadata": {},
   "source": [
    "Подготовка данных"
   ]
  },
  {
   "cell_type": "code",
   "execution_count": 3,
   "id": "73f3bdee",
   "metadata": {},
   "outputs": [],
   "source": [
    "scaler = MinMaxScaler(feature_range=(0, 1))\n",
    "scaler_data = scaler.fit_transform(data['Close'].values.reshape(-1, 1))\n",
    "\n",
    "prediction_days = 60\n",
    "\n",
    "x_train = []\n",
    "y_train = []\n",
    "\n",
    "for x in range(prediction_days, len(scaler_data)):\n",
    "    x_train.append(scaler_data[x-prediction_days:x, 0])\n",
    "    y_train.append(scaler_data[x, 0])\n",
    "\n",
    "x_train, y_train = np.asarray(x_train), np.asarray(y_train)\n",
    "x_train = np.reshape(x_train, (x_train.shape[0], x_train.shape[1], 1))"
   ]
  },
  {
   "cell_type": "markdown",
   "id": "e9a26b93",
   "metadata": {},
   "source": [
    "Построение модели"
   ]
  },
  {
   "cell_type": "code",
   "execution_count": 4,
   "id": "54215ca0",
   "metadata": {},
   "outputs": [
    {
     "name": "stdout",
     "output_type": "stream",
     "text": [
      "Epoch 1/25\n",
      "69/69 [==============================] - 5s 79ms/step - loss: 0.0074\n",
      "Epoch 2/25\n",
      "69/69 [==============================] - 5s 77ms/step - loss: 0.0015\n",
      "Epoch 3/25\n",
      "69/69 [==============================] - 5s 75ms/step - loss: 0.0014\n",
      "Epoch 4/25\n",
      "69/69 [==============================] - 5s 74ms/step - loss: 0.0012\n",
      "Epoch 5/25\n",
      "69/69 [==============================] - 5s 69ms/step - loss: 0.0010\n",
      "Epoch 6/25\n",
      "69/69 [==============================] - 5s 70ms/step - loss: 0.0011\n",
      "Epoch 7/25\n",
      "69/69 [==============================] - 6s 80ms/step - loss: 0.0010\n",
      "Epoch 8/25\n",
      "69/69 [==============================] - 5s 70ms/step - loss: 9.6450e-04\n",
      "Epoch 9/25\n",
      "69/69 [==============================] - 5s 77ms/step - loss: 0.0011\n",
      "Epoch 10/25\n",
      "69/69 [==============================] - 5s 75ms/step - loss: 9.9050e-04: 0s - loss: 9.9050e-0\n",
      "Epoch 11/25\n",
      "69/69 [==============================] - 5s 76ms/step - loss: 9.0947e-04\n",
      "Epoch 12/25\n",
      "69/69 [==============================] - 5s 76ms/step - loss: 9.4783e-04\n",
      "Epoch 13/25\n",
      "69/69 [==============================] - 5s 72ms/step - loss: 9.8065e-04\n",
      "Epoch 14/25\n",
      "69/69 [==============================] - 5s 74ms/step - loss: 7.1048e-04\n",
      "Epoch 15/25\n",
      "69/69 [==============================] - 5s 75ms/step - loss: 8.2388e-04\n",
      "Epoch 16/25\n",
      "69/69 [==============================] - 6s 85ms/step - loss: 0.0010\n",
      "Epoch 17/25\n",
      "69/69 [==============================] - 6s 90ms/step - loss: 8.1884e-04: 0s - loss: 8.1756e-\n",
      "Epoch 18/25\n",
      "69/69 [==============================] - 6s 94ms/step - loss: 7.0989e-04: 1s - loss - ETA: 0s - loss: 7.1\n",
      "Epoch 19/25\n",
      "69/69 [==============================] - 6s 89ms/step - loss: 7.4620e-04\n",
      "Epoch 20/25\n",
      "69/69 [==============================] - 6s 82ms/step - loss: 8.0096e-04: 1s -\n",
      "Epoch 21/25\n",
      "69/69 [==============================] - 6s 81ms/step - loss: 8.2742e-04\n",
      "Epoch 22/25\n",
      "69/69 [==============================] - 5s 79ms/step - loss: 7.2310e-04\n",
      "Epoch 23/25\n",
      "69/69 [==============================] - 6s 85ms/step - loss: 7.0093e-04: 0s - los\n",
      "Epoch 24/25\n",
      "69/69 [==============================] - 6s 91ms/step - loss: 6.6983e-04\n",
      "Epoch 25/25\n",
      "69/69 [==============================] - 7s 108ms/step - loss: 7.2848e-04\n"
     ]
    },
    {
     "data": {
      "text/plain": [
       "<tensorflow.python.keras.callbacks.History at 0x14b9444bb20>"
      ]
     },
     "execution_count": 4,
     "metadata": {},
     "output_type": "execute_result"
    }
   ],
   "source": [
    "model = Sequential()\n",
    "\n",
    "model.add(LSTM(units=50, return_sequences=True, input_shape=(x_train.shape[1], 1)))\n",
    "model.add(Dropout(0.2))\n",
    "model.add(LSTM(units=50, return_sequences=True))\n",
    "model.add(Dropout(0.2))\n",
    "model.add(LSTM(units=50))\n",
    "model.add(Dropout(0.2))\n",
    "model.add(Dense(units=1))\n",
    "\n",
    "model.compile(optimizer='adam', loss='mean_squared_error')\n",
    "model.fit(x_train, y_train, epochs=25, batch_size=32)"
   ]
  },
  {
   "cell_type": "markdown",
   "id": "10da108b",
   "metadata": {},
   "source": [
    "Проверяем точность модели на существующих данных"
   ]
  },
  {
   "cell_type": "markdown",
   "id": "2c1cdfe6",
   "metadata": {},
   "source": [
    "Загружаем тестовые данные"
   ]
  },
  {
   "cell_type": "code",
   "execution_count": 5,
   "id": "30673b35",
   "metadata": {},
   "outputs": [],
   "source": [
    "test_start = dt.datetime(2018, 1, 1)\n",
    "test_end = dt.datetime.now()\n",
    "\n",
    "test_data = web.DataReader(company, 'yahoo', test_start, test_end)\n",
    "actual_prices = test_data['Close'].values\n",
    "\n",
    "total_dataset = pd.concat((data['Close'], test_data['Close']), axis=0)\n",
    "\n",
    "model_inputs = total_dataset[len(total_dataset) - len(test_data) - prediction_days:].values\n",
    "model_inputs = model_inputs.reshape(-1, 1)\n",
    "model_inputs = scaler.transform(model_inputs)"
   ]
  },
  {
   "cell_type": "markdown",
   "id": "4c7702ab",
   "metadata": {},
   "source": [
    "Сделаем предсказания на основе тестовых данных"
   ]
  },
  {
   "cell_type": "code",
   "execution_count": 6,
   "id": "35439620",
   "metadata": {},
   "outputs": [],
   "source": [
    "x_test = []\n",
    "\n",
    "for x in range(prediction_days, len(model_inputs)):\n",
    "    x_test.append(model_inputs[x - prediction_days:x, 0])\n",
    "    \n",
    "x_test = np.asarray(x_test)\n",
    "x_test = np.reshape(x_test, (x_test.shape[0], x_test.shape[1], 1))\n",
    "                    \n",
    "predicted_prices = model.predict(x_test)\n",
    "predicted_prices = scaler.inverse_transform(predicted_prices)"
   ]
  },
  {
   "cell_type": "markdown",
   "id": "69eff341",
   "metadata": {},
   "source": [
    "Построим графики тестовых предсказаний"
   ]
  },
  {
   "cell_type": "code",
   "execution_count": 7,
   "id": "e8343c4c",
   "metadata": {
    "scrolled": true
   },
   "outputs": [
    {
     "data": {
      "image/png": "[encoded data removed]",
      "text/plain": [
       "<Figure size 432x288 with 1 Axes>"
      ]
     },
     "metadata": {
      "needs_background": "light"
     },
     "output_type": "display_data"
    }
   ],
   "source": [
    "plt.plot(actual_prices, color = \"black\", label=f\"Текущая стоимость {company}\")\n",
    "plt.plot(predicted_prices, color = \"green\", label=f\"Прогнозируемая стоимость {company}\")\n",
    "plt.title(f\"Цена акций {company}\")\n",
    "plt.xlabel('Время')\n",
    "plt.ylabel(f'Цена акций {company}')\n",
    "plt.legend()\n",
    "plt.show()"
   ]
  },
  {
   "cell_type": "markdown",
   "id": "1604a27c",
   "metadata": {},
   "source": [
    "Предсказание завтрашнего дня"
   ]
  },
  {
   "cell_type": "code",
   "execution_count": 8,
   "id": "aa4b53bb",
   "metadata": {},
   "outputs": [
    {
     "name": "stdout",
     "output_type": "stream",
     "text": [
      "WARNING:tensorflow:Model was constructed with shape (None, 60, 1) for input Tensor(\"lstm_input:0\", shape=(None, 60, 1), dtype=float32), but it was called on an input with incompatible shape (None, 59, 1).\n",
      "Предсказание: [[128.56258]]\n"
     ]
    }
   ],
   "source": [
    "real_data = [model_inputs[len(model_inputs) + 1 - prediction_days:len(model_inputs+1), 0]]\n",
    "real_data = np.asarray(real_data)\n",
    "real_data = np.reshape(real_data, (real_data.shape[0], real_data.shape[1],1))\n",
    "\n",
    "prediction = model.predict(real_data)\n",
    "prediction = scaler.inverse_transform(prediction)\n",
    "print(f\"Предсказание: {prediction}\")"
   ]
  }
 ],
 "metadata": {
  "kernelspec": {
   "display_name": "Python 3",
   "language": "python",
   "name": "python3"
  },
  "language_info": {
   "codemirror_mode": {
    "name": "ipython",
    "version": 3
   },
   "file_extension": ".py",
   "mimetype": "text/x-python",
   "name": "python",
   "nbconvert_exporter": "python",
   "pygments_lexer": "ipython3",
   "version": "3.8.5"
  }
 },
 "nbformat": 4,
 "nbformat_minor": 5
}
