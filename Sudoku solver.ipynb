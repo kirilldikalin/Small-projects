{
 "cells": [
  {
   "cell_type": "markdown",
   "id": "e8e158ea",
   "metadata": {},
   "source": [
    "## Заполняем поле "
   ]
  },
  {
   "cell_type": "code",
   "execution_count": 1,
   "id": "f3a78d8d",
   "metadata": {},
   "outputs": [],
   "source": [
    "grid = [[0, 7, 0, 3, 0, 0, 0, 0, 0],\n",
    "        [2, 3, 4, 0, 0, 0, 0, 0, 0],\n",
    "        [0, 0, 0, 4, 0, 0, 0, 2, 3],\n",
    "        [0, 0, 5, 0, 3, 4, 0, 0, 0],\n",
    "        [0, 0, 0, 0, 0, 0, 2, 0, 1],\n",
    "        [0, 0, 2, 0, 0, 1, 0, 7, 0],\n",
    "        [0, 0, 0, 0, 8, 0, 0, 9, 7],\n",
    "        [0, 6, 0, 7, 0, 0, 0, 5, 0],\n",
    "        [1, 5, 0, 6, 9, 0, 0, 0, 0]]"
   ]
  },
  {
   "cell_type": "markdown",
   "id": "ad8deb0a",
   "metadata": {},
   "source": [
    "## Проверяем правильность введённых данных"
   ]
  },
  {
   "cell_type": "code",
   "execution_count": 2,
   "id": "9485e55b",
   "metadata": {},
   "outputs": [],
   "source": [
    "def is_valid_move(grid, row, col, number):\n",
    "    for x in range(9):\n",
    "        if grid[row][x] == number:\n",
    "            return False\n",
    "    for x in range(9):\n",
    "        if grid[x][col] == number:\n",
    "            return False\n",
    "\n",
    "    corner_row = row - row % 3\n",
    "    corner_col = col - col % 3\n",
    "    for x in range(3):\n",
    "        for y in range(3):\n",
    "            if grid[corner_row + x][corner_col + y] == number:\n",
    "                return False\n",
    "    return True"
   ]
  },
  {
   "cell_type": "markdown",
   "id": "8bf7b63a",
   "metadata": {},
   "source": [
    "## Функция решения "
   ]
  },
  {
   "cell_type": "code",
   "execution_count": 3,
   "id": "c7fe916c",
   "metadata": {},
   "outputs": [],
   "source": [
    "def solve(grid, row, col):\n",
    "    if col == 9:\n",
    "        if row == 8:\n",
    "            return True\n",
    "        row += 1\n",
    "        col = 0\n",
    "        \n",
    "    if grid[row][col] > 0:\n",
    "        return solve(grid, row, col + 1)\n",
    "    \n",
    "    for num in range(1, 10):\n",
    "        if is_valid_move(grid, row, col, num):\n",
    "            grid[row][col] = num\n",
    "            if solve(grid, row, col + 1):\n",
    "                return True\n",
    "        \n",
    "        grid[row][col] = 0\n",
    "        \n",
    "    return False"
   ]
  },
  {
   "cell_type": "markdown",
   "id": "e7936ac8",
   "metadata": {},
   "source": [
    "##  Вывод результата"
   ]
  },
  {
   "cell_type": "code",
   "execution_count": 4,
   "id": "ba4f4be4",
   "metadata": {},
   "outputs": [
    {
     "name": "stdout",
     "output_type": "stream",
     "text": [
      "5 7 1 3 2 6 4 8 9 \n",
      "2 3 4 8 5 9 7 1 6 \n",
      "6 8 9 4 1 7 5 2 3 \n",
      "7 1 5 2 3 4 9 6 8 \n",
      "3 9 6 5 7 8 2 4 1 \n",
      "8 4 2 9 6 1 3 7 5 \n",
      "4 2 3 1 8 5 6 9 7 \n",
      "9 6 8 7 4 3 1 5 2 \n",
      "1 5 7 6 9 2 8 3 4 \n"
     ]
    }
   ],
   "source": [
    "if solve(grid, 0, 0):\n",
    "    for i in range(9):\n",
    "        for j in range(9):\n",
    "            print(grid[i][j], end=\" \")\n",
    "        print()\n",
    "else:\n",
    "    print(\"Нет решений\")"
   ]
  }
 ],
 "metadata": {
  "kernelspec": {
   "display_name": "Python 3 (ipykernel)",
   "language": "python",
   "name": "python3"
  },
  "language_info": {
   "codemirror_mode": {
    "name": "ipython",
    "version": 3
   },
   "file_extension": ".py",
   "mimetype": "text/x-python",
   "name": "python",
   "nbconvert_exporter": "python",
   "pygments_lexer": "ipython3",
   "version": "3.8.10"
  }
 },
 "nbformat": 4,
 "nbformat_minor": 5
}
