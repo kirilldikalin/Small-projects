{
 "cells": [
  {
   "cell_type": "markdown",
   "id": "a1e99d2d",
   "metadata": {},
   "source": [
    "Импортируем все необходимые библиотеки"
   ]
  },
  {
   "cell_type": "code",
   "execution_count": 1,
   "id": "6664db6e",
   "metadata": {},
   "outputs": [
    {
     "name": "stderr",
     "output_type": "stream",
     "text": [
      "[nltk_data] Downloading package punkt to\n",
      "[nltk_data]     C:\\Users\\dikki\\AppData\\Roaming\\nltk_data...\n",
      "[nltk_data]   Package punkt is already up-to-date!\n",
      "[nltk_data] Downloading package stopwords to\n",
      "[nltk_data]     C:\\Users\\dikki\\AppData\\Roaming\\nltk_data...\n",
      "[nltk_data]   Package stopwords is already up-to-date!\n"
     ]
    }
   ],
   "source": [
    "import pandas as pd\n",
    "import sklearn\n",
    "import nltk\n",
    "import string\n",
    "from nltk.corpus import stopwords\n",
    "from nltk.tokenize import word_tokenize\n",
    "from nltk.stem import SnowballStemmer\n",
    "nltk.download('punkt')\n",
    "nltk.download('stopwords')\n",
    "from sklearn.pipeline import Pipeline\n",
    "from sklearn.linear_model import LogisticRegression\n",
    "from sklearn.feature_extraction.text import TfidfVectorizer\n",
    "from sklearn.metrics import precision_score, recall_score, precision_recall_curve\n",
    "from matplotlib import pyplot as plt\n",
    "from sklearn.metrics import plot_precision_recall_curve\n",
    "import numpy as np\n",
    "from sklearn.model_selection import GridSearchCV\n",
    "from sklearn.model_selection import train_test_split"
   ]
  },
  {
   "cell_type": "markdown",
   "id": "75818d80",
   "metadata": {},
   "source": [
    "Читаем данные с помощью pandas. Можно указать разделитель - запятую"
   ]
  },
  {
   "cell_type": "code",
   "execution_count": 2,
   "id": "042a2493",
   "metadata": {},
   "outputs": [],
   "source": [
    "df = pd.read_csv(\"labeled.csv\", sep=',')"
   ]
  },
  {
   "cell_type": "markdown",
   "id": "5c888ca4",
   "metadata": {},
   "source": [
    "Смотрим размер данных. 14412 строк и 2 колонки"
   ]
  },
  {
   "cell_type": "code",
   "execution_count": 3,
   "id": "46185e6d",
   "metadata": {},
   "outputs": [
    {
     "data": {
      "text/plain": [
       "(14412, 2)"
      ]
     },
     "execution_count": 3,
     "metadata": {},
     "output_type": "execute_result"
    }
   ],
   "source": [
    "df.shape"
   ]
  },
  {
   "cell_type": "markdown",
   "id": "03f9dda9",
   "metadata": {},
   "source": [
    "Смотрим первые 5 записей"
   ]
  },
  {
   "cell_type": "code",
   "execution_count": 4,
   "id": "1ae1b6e4",
   "metadata": {},
   "outputs": [
    {
     "data": {
      "text/html": [
       "<div>\n",
       "<style scoped>\n",
       "    .dataframe tbody tr th:only-of-type {\n",
       "        vertical-align: middle;\n",
       "    }\n",
       "\n",
       "    .dataframe tbody tr th {\n",
       "        vertical-align: top;\n",
       "    }\n",
       "\n",
       "    .dataframe thead th {\n",
       "        text-align: right;\n",
       "    }\n",
       "</style>\n",
       "<table border=\"1\" class=\"dataframe\">\n",
       "  <thead>\n",
       "    <tr style=\"text-align: right;\">\n",
       "      <th></th>\n",
       "      <th>comment</th>\n",
       "      <th>toxic</th>\n",
       "    </tr>\n",
       "  </thead>\n",
       "  <tbody>\n",
       "    <tr>\n",
       "      <th>0</th>\n",
       "      <td>Верблюдов-то за что? Дебилы, бл...\\n</td>\n",
       "      <td>1.0</td>\n",
       "    </tr>\n",
       "    <tr>\n",
       "      <th>1</th>\n",
       "      <td>Хохлы, это отдушина затюканого россиянина, мол...</td>\n",
       "      <td>1.0</td>\n",
       "    </tr>\n",
       "    <tr>\n",
       "      <th>2</th>\n",
       "      <td>Собаке - собачья смерть\\n</td>\n",
       "      <td>1.0</td>\n",
       "    </tr>\n",
       "    <tr>\n",
       "      <th>3</th>\n",
       "      <td>Страницу обнови, дебил. Это тоже не оскорблени...</td>\n",
       "      <td>1.0</td>\n",
       "    </tr>\n",
       "    <tr>\n",
       "      <th>4</th>\n",
       "      <td>тебя не убедил 6-страничный пдф в том, что Скр...</td>\n",
       "      <td>1.0</td>\n",
       "    </tr>\n",
       "  </tbody>\n",
       "</table>\n",
       "</div>"
      ],
      "text/plain": [
       "                                             comment  toxic\n",
       "0               Верблюдов-то за что? Дебилы, бл...\\n    1.0\n",
       "1  Хохлы, это отдушина затюканого россиянина, мол...    1.0\n",
       "2                          Собаке - собачья смерть\\n    1.0\n",
       "3  Страницу обнови, дебил. Это тоже не оскорблени...    1.0\n",
       "4  тебя не убедил 6-страничный пдф в том, что Скр...    1.0"
      ]
     },
     "execution_count": 4,
     "metadata": {},
     "output_type": "execute_result"
    }
   ],
   "source": [
    "df.head(5)"
   ]
  },
  {
   "cell_type": "markdown",
   "id": "8d658c1e",
   "metadata": {},
   "source": [
    "Приводим значения в столбце ```toxic``` к ```int```. Используем функцию ```apply```, которая применит к каждой строчке одну и ту же функцию"
   ]
  },
  {
   "cell_type": "code",
   "execution_count": 5,
   "id": "f24187d0",
   "metadata": {},
   "outputs": [],
   "source": [
    "df[\"toxic\"] = df[\"toxic\"].apply(int)"
   ]
  },
  {
   "cell_type": "markdown",
   "id": "f9fe26e0",
   "metadata": {},
   "source": [
    "Смотрим снова данные"
   ]
  },
  {
   "cell_type": "code",
   "execution_count": 6,
   "id": "a6bbd90d",
   "metadata": {
    "scrolled": true
   },
   "outputs": [
    {
     "data": {
      "text/html": [
       "<div>\n",
       "<style scoped>\n",
       "    .dataframe tbody tr th:only-of-type {\n",
       "        vertical-align: middle;\n",
       "    }\n",
       "\n",
       "    .dataframe tbody tr th {\n",
       "        vertical-align: top;\n",
       "    }\n",
       "\n",
       "    .dataframe thead th {\n",
       "        text-align: right;\n",
       "    }\n",
       "</style>\n",
       "<table border=\"1\" class=\"dataframe\">\n",
       "  <thead>\n",
       "    <tr style=\"text-align: right;\">\n",
       "      <th></th>\n",
       "      <th>comment</th>\n",
       "      <th>toxic</th>\n",
       "    </tr>\n",
       "  </thead>\n",
       "  <tbody>\n",
       "    <tr>\n",
       "      <th>0</th>\n",
       "      <td>Верблюдов-то за что? Дебилы, бл...\\n</td>\n",
       "      <td>1</td>\n",
       "    </tr>\n",
       "    <tr>\n",
       "      <th>1</th>\n",
       "      <td>Хохлы, это отдушина затюканого россиянина, мол...</td>\n",
       "      <td>1</td>\n",
       "    </tr>\n",
       "    <tr>\n",
       "      <th>2</th>\n",
       "      <td>Собаке - собачья смерть\\n</td>\n",
       "      <td>1</td>\n",
       "    </tr>\n",
       "    <tr>\n",
       "      <th>3</th>\n",
       "      <td>Страницу обнови, дебил. Это тоже не оскорблени...</td>\n",
       "      <td>1</td>\n",
       "    </tr>\n",
       "    <tr>\n",
       "      <th>4</th>\n",
       "      <td>тебя не убедил 6-страничный пдф в том, что Скр...</td>\n",
       "      <td>1</td>\n",
       "    </tr>\n",
       "  </tbody>\n",
       "</table>\n",
       "</div>"
      ],
      "text/plain": [
       "                                             comment  toxic\n",
       "0               Верблюдов-то за что? Дебилы, бл...\\n      1\n",
       "1  Хохлы, это отдушина затюканого россиянина, мол...      1\n",
       "2                          Собаке - собачья смерть\\n      1\n",
       "3  Страницу обнови, дебил. Это тоже не оскорблени...      1\n",
       "4  тебя не убедил 6-страничный пдф в том, что Скр...      1"
      ]
     },
     "execution_count": 6,
     "metadata": {},
     "output_type": "execute_result"
    }
   ],
   "source": [
    "df.head(5)"
   ]
  },
  {
   "cell_type": "markdown",
   "id": "658e0e9e",
   "metadata": {},
   "source": [
    "Смотрим распределение данных по токсичности"
   ]
  },
  {
   "cell_type": "code",
   "execution_count": 7,
   "id": "b95ff81f",
   "metadata": {},
   "outputs": [
    {
     "data": {
      "text/plain": [
       "0    9586\n",
       "1    4826\n",
       "Name: toxic, dtype: int64"
      ]
     },
     "execution_count": 7,
     "metadata": {},
     "output_type": "execute_result"
    }
   ],
   "source": [
    "df[\"toxic\"].value_counts()"
   ]
  },
  {
   "cell_type": "markdown",
   "id": "8ab51f64",
   "metadata": {},
   "source": [
    "Смотрим примеры токсичных комментариев. "
   ]
  },
  {
   "cell_type": "code",
   "execution_count": 8,
   "id": "fff9e1fa",
   "metadata": {},
   "outputs": [
    {
     "name": "stdout",
     "output_type": "stream",
     "text": [
      "Верблюдов-то за что? Дебилы, бл...\n",
      "\n",
      "Хохлы, это отдушина затюканого россиянина, мол, вон, а у хохлов еще хуже. Если бы хохлов не было, кисель их бы придумал.\n",
      "\n",
      "Собаке - собачья смерть\n",
      "\n",
      "Страницу обнови, дебил. Это тоже не оскорбление, а доказанный факт - не-дебил про себя во множественном числе писать не будет. Или мы в тебя верим - это ты и твои воображаемые друзья?\n",
      "\n",
      "тебя не убедил 6-страничный пдф в том, что Скрипалей отравила Россия? Анализировать и думать пытаешься? Ватник что ли?)\n",
      "\n"
     ]
    }
   ],
   "source": [
    "for c in df[df[\"toxic\"] == 1]['comment'].head(5):\n",
    "    print(c)"
   ]
  },
  {
   "cell_type": "markdown",
   "id": "30cc3f71",
   "metadata": {},
   "source": [
    "Потом не токсик со значением 0"
   ]
  },
  {
   "cell_type": "code",
   "execution_count": 9,
   "id": "ab8d1daa",
   "metadata": {},
   "outputs": [
    {
     "name": "stdout",
     "output_type": "stream",
     "text": [
      "В шапке были ссылки на инфу по текущему фильму марвел. Эти ссылки были заменены на фразу Репортим брипидора, игнорируем его посты. Если этого недостаточно, чтобы понять, что модератор абсолютный неадекват, и его нужно лишить полномочий, тогда эта борда пробивает абсолютное дно по неадекватности.\n",
      "\n",
      "Почитайте посты у этого автора,может найдете что нибудь полезное. Надеюсь помог) https: pikabu.ru story obyichnyie budni dezsluzhbyi 4932098\n",
      "\n",
      "Про графику было обидно) я так то проходил все серии гта со второй части по пятую, кроме гта 4. И мне не мешала графика ни в одной из частей. На компе у меня было куча видеокарт. Начиная с 32мб RIVA TNT и заканчивая 2Гб 560Ti на которой я спокойно играю который год в танки, гта5, ведьмака3 купил на распродаже и начал проходить. Да, не на ультрах. С пониженными текстурами. И не мешает. Я не понимаю дрочева на графике, требовать графику уровня плойки 4 минимум. Мне надо чтобы глаза не резало, только и всего. По поводу управления, мне не хватает переходника на type c. У меня джойстик есть от иксбокса360. Потенциала в мобильных играх достаточно чтобы забить кнопки как забивались в той же NFS MW в 2005. Не самая плохая игра была.\n",
      "\n",
      "https: pp.userapi.com c848520 v848520411 11627b cOhWqFbGjWE.jpg\n",
      "\n",
      "Возьмём как пример Россию, западноевропейские страны и США. Идёт метисация, сознательная политика замещения белого населения на пришлое черно-коричневое. Идёт создание новой расы метисов, исламизация и почернение. В крупных городах половина населения - выходцы из ебеней Мексики, Африки, Ближнего Востока, а в случае с Россией - Кавказа и Средней Азии. Этнические ниггеро-арабские гетто верят на хую законы как хотят, чудовищная по масштабам этническая преступность. Говорить о миграции и тем более затрагивать тему замещения коренного населения властями нельзя, иначе бутылка. Свобода слова тут не для вас, молодой человек. При этом говорить о том, что белые должны вымереть, и это нормально - можно. Белые официально вымирают ведётся пропаганда так или иначе направленная на снижение рождаемости белого населения. Феминизм, ЛГБТ, чайлдфри. Каждая женщина в Швеции - леволиберальная феминистка, это страна победившего феминизма. Что сегодня там происходит - страшно делается. Пропагандируются смешанные браки, межрасовые браки, пропагандируется превосходство детей-метисов. Идёт демонизация белых и пропаганда превосходства чёрных и смуглых мужчин, форс отношений белая женщина смуглый чёрный мужчина-мигрант. Как результат - всё больше чернильниц, всё больше смешанных браков, всё больше небелых метисов. Белые женщины просто не хотят контактировать с мужчинами своей нации и расы, наделяя их самыми плохими качествами и обожествляя черных. При этом большинство белых не считает завоз чурок чем-то плохим, наоборот, относятся к ним толерантно. Проводится политика насаждения толерантности, мультикультурализма, политкорректности и космополитизма. Набирающее популярность даже в России SJW - это вообще отдельная тема для обсуждения. Всё вышеперечисленное относится к сильнейшим когда-то странам, бывшим империям, нагибающим слабых. Сегодня происходит так, что бывшие империи в прямом смысле деградируют, вырождаются и вымирают, а место сильнейших когда-то, господствующих народов, занимают те, кого когда-то колонизировали. Во Франции к 2080 уже будут доминировать негры и арабы, в России - кавказцы и выходцы из средней Азии, в Великобритании - индийцы, негры, арабы, пакистанцы, etc. А в маленьких, нейтральных странах, вроде Словении или Беларуси, Литвы или Чехии, Румынии или Эстонии - всё пучком. Им вымирание не грозит, они остаются и будут оставаться белыми. Более того, у них ведётся политика, направленная на сохранение традиционных ценностей и культуры коренного населения. Они сказали беженцам нет . В Польшу, например, русскому или украинцу гораздо легче переехать и остаться, чем арабу или африканцу. В Германии ситуация противоположная, белых там не ждут. Польша, Чехия, Словакия, Венгрия, Словения, Хорватия, Сербия, БиГ, Черногория, Македония, Греция, Болгария, Румыния, Молдова, Украина, Беларусь, Литва, Латвия, Эстония - вот Европа будущего. Скандинавия, Южная, Западная Европа, а также Россия - лишатся коренного населения и своей культуры.\n",
      "\n"
     ]
    }
   ],
   "source": [
    "for c in df[df[\"toxic\"] == 0]['comment'].head(5):\n",
    "    print(c)"
   ]
  },
  {
   "cell_type": "markdown",
   "id": "9f4e5d17",
   "metadata": {},
   "source": [
    "Берём 500 сэмплов на тест"
   ]
  },
  {
   "cell_type": "code",
   "execution_count": 10,
   "id": "64a7ff88",
   "metadata": {
    "scrolled": true
   },
   "outputs": [],
   "source": [
    "train_df, test_df = train_test_split(df, test_size=500)"
   ]
  },
  {
   "cell_type": "markdown",
   "id": "1bb19489",
   "metadata": {},
   "source": [
    "Проверяем что действительно 500"
   ]
  },
  {
   "cell_type": "code",
   "execution_count": 11,
   "id": "2adb30d0",
   "metadata": {},
   "outputs": [
    {
     "data": {
      "text/plain": [
       "(500, 2)"
      ]
     },
     "execution_count": 11,
     "metadata": {},
     "output_type": "execute_result"
    }
   ],
   "source": [
    "test_df.shape"
   ]
  },
  {
   "cell_type": "markdown",
   "id": "944c20a9",
   "metadata": {},
   "source": [
    "Смотрим распределение токсичности"
   ]
  },
  {
   "cell_type": "code",
   "execution_count": 12,
   "id": "6260ff24",
   "metadata": {},
   "outputs": [
    {
     "data": {
      "text/plain": [
       "0    328\n",
       "1    172\n",
       "Name: toxic, dtype: int64"
      ]
     },
     "execution_count": 12,
     "metadata": {},
     "output_type": "execute_result"
    }
   ],
   "source": [
    "test_df[\"toxic\"].value_counts()"
   ]
  },
  {
   "cell_type": "code",
   "execution_count": 13,
   "id": "118905e1",
   "metadata": {},
   "outputs": [
    {
     "data": {
      "text/plain": [
       "0    9258\n",
       "1    4654\n",
       "Name: toxic, dtype: int64"
      ]
     },
     "execution_count": 13,
     "metadata": {},
     "output_type": "execute_result"
    }
   ],
   "source": [
    "train_df[\"toxic\"].value_counts()"
   ]
  },
  {
   "cell_type": "markdown",
   "id": "9aae5388",
   "metadata": {},
   "source": [
    "Будем использовать логистическую регрессию. Пред этим необходимо из теста сделать численные векторы, потому что сама модель на вход принимает вещественные векторы.\n",
    "1. Нужно будет разбить текст на токены\n",
    "2. Удалить токены без смысловой инфорамции\n",
    "3. К каждому токену применть стемминг. Удалить у слова окончание и привести всё к нижнему регистру\n"
   ]
  },
  {
   "cell_type": "markdown",
   "id": "0d46f710",
   "metadata": {},
   "source": [
    "Берём один пример (один комментарий)"
   ]
  },
  {
   "cell_type": "code",
   "execution_count": 14,
   "id": "59150255",
   "metadata": {},
   "outputs": [],
   "source": [
    "sentence_example = df.iloc[1][\"comment\"]"
   ]
  },
  {
   "cell_type": "markdown",
   "id": "f8778b32",
   "metadata": {},
   "source": [
    "Вызываем функцию ```word_tokenize``` из библиотеки ```nltk```, которая разбивает текст на токены. Разбивает по пробелам и знакам пунктуации."
   ]
  },
  {
   "cell_type": "code",
   "execution_count": 15,
   "id": "b9a23fcd",
   "metadata": {},
   "outputs": [],
   "source": [
    "tokens = word_tokenize(sentence_example, language=\"russian\")"
   ]
  },
  {
   "cell_type": "markdown",
   "id": "abea053e",
   "metadata": {},
   "source": [
    "Удаляем знаки пунктуации. Для этого импортируем стандартный модуль ```string```  в котором есть массив ```punctuation```, который содержит все знаки пунктуации."
   ]
  },
  {
   "cell_type": "code",
   "execution_count": 16,
   "id": "6a5e4a6f",
   "metadata": {},
   "outputs": [],
   "source": [
    "tokens_without_punctuation = [i for i in tokens if i not in string.punctuation]"
   ]
  },
  {
   "cell_type": "markdown",
   "id": "4c9cd88b",
   "metadata": {},
   "source": [
    "Из библиотеки ```nltk``` получаем русские стоп слова и удаляем их"
   ]
  },
  {
   "cell_type": "code",
   "execution_count": 17,
   "id": "645c3d4d",
   "metadata": {
    "scrolled": true
   },
   "outputs": [],
   "source": [
    "russian_stop_words = stopwords.words(\"russian\")"
   ]
  },
  {
   "cell_type": "code",
   "execution_count": 18,
   "id": "58d9c749",
   "metadata": {},
   "outputs": [],
   "source": [
    "tokens_without_stop_words_and_punctuation = [i for i in tokens_without_punctuation if i not in russian_stop_words]"
   ]
  },
  {
   "cell_type": "markdown",
   "id": "073872a3",
   "metadata": {},
   "source": [
    "Приводим к нижнему ригистру и удаляем окончания"
   ]
  },
  {
   "cell_type": "code",
   "execution_count": 19,
   "id": "3001dbe4",
   "metadata": {},
   "outputs": [],
   "source": [
    "snowball = SnowballStemmer(language=\"russian\")"
   ]
  },
  {
   "cell_type": "code",
   "execution_count": 20,
   "id": "1b96e24c",
   "metadata": {},
   "outputs": [],
   "source": [
    "stemmed_tokens = [snowball.stem(i) for i in tokens_without_stop_words_and_punctuation]"
   ]
  },
  {
   "cell_type": "markdown",
   "id": "906907c9",
   "metadata": {},
   "source": [
    "Напечатаем примеры"
   ]
  },
  {
   "cell_type": "code",
   "execution_count": 21,
   "id": "21eb376d",
   "metadata": {},
   "outputs": [
    {
     "name": "stdout",
     "output_type": "stream",
     "text": [
      "Исходный текст: Хохлы, это отдушина затюканого россиянина, мол, вон, а у хохлов еще хуже. Если бы хохлов не было, кисель их бы придумал.\n",
      "\n",
      "-----------------\n",
      "Токены: ['Хохлы', ',', 'это', 'отдушина', 'затюканого', 'россиянина', ',', 'мол', ',', 'вон', ',', 'а', 'у', 'хохлов', 'еще', 'хуже', '.', 'Если', 'бы', 'хохлов', 'не', 'было', ',', 'кисель', 'их', 'бы', 'придумал', '.']\n",
      "-----------------\n",
      "Токены без пунктуации: ['Хохлы', 'это', 'отдушина', 'затюканого', 'россиянина', 'мол', 'вон', 'а', 'у', 'хохлов', 'еще', 'хуже', 'Если', 'бы', 'хохлов', 'не', 'было', 'кисель', 'их', 'бы', 'придумал']\n",
      "-----------------\n",
      "Токены без пунктуаци и стоп слов: ['Хохлы', 'это', 'отдушина', 'затюканого', 'россиянина', 'мол', 'вон', 'хохлов', 'хуже', 'Если', 'хохлов', 'кисель', 'придумал']\n",
      "-----------------\n",
      "Токены после стемминга: ['хохл', 'эт', 'отдушин', 'затюкан', 'россиянин', 'мол', 'вон', 'хохл', 'хуж', 'есл', 'хохл', 'кисел', 'придума']\n",
      "-----------------\n"
     ]
    }
   ],
   "source": [
    "print(f\"Исходный текст: {sentence_example}\")\n",
    "print(\"-----------------\")\n",
    "print(f\"Токены: {tokens}\")\n",
    "print(\"-----------------\")\n",
    "print(f\"Токены без пунктуации: {tokens_without_punctuation}\")\n",
    "print(\"-----------------\")\n",
    "print(f\"Токены без пунктуаци и стоп слов: {tokens_without_stop_words_and_punctuation}\")\n",
    "print(\"-----------------\")\n",
    "print(f\"Токены после стемминга: {stemmed_tokens}\")\n",
    "print(\"-----------------\")"
   ]
  },
  {
   "cell_type": "markdown",
   "id": "efd251a9",
   "metadata": {},
   "source": [
    "Напишем функцию чтобы могли этап предобработки применять для каждого предложения в нашем df. Создаём стеммер и список стоп слов."
   ]
  },
  {
   "cell_type": "code",
   "execution_count": 22,
   "id": "e864ca89",
   "metadata": {},
   "outputs": [],
   "source": [
    "snowball = SnowballStemmer(language=\"russian\")\n",
    "russian_stop_words = stopwords.words(\"russian\")\n",
    "\n",
    "def tokenize_sentetnce(sentence: str, remove_stop_words: bool = True):\n",
    "    tokens = word_tokenize(sentence, language=\"russian\")\n",
    "    tokens = [i for i in tokens if i not in string.punctuation]\n",
    "    if remove_stop_words:\n",
    "        tokens = [i for i in tokens if i not in russian_stop_words]\n",
    "    tokens = [snowball.stem(i) for i in tokens]\n",
    "    return tokens"
   ]
  },
  {
   "cell_type": "markdown",
   "id": "95e7fbf1",
   "metadata": {},
   "source": [
    "Проверим на примере как работает функция"
   ]
  },
  {
   "cell_type": "code",
   "execution_count": 23,
   "id": "736a8152",
   "metadata": {
    "scrolled": true
   },
   "outputs": [
    {
     "data": {
      "text/plain": [
       "['хохл',\n",
       " 'эт',\n",
       " 'отдушин',\n",
       " 'затюкан',\n",
       " 'россиянин',\n",
       " 'мол',\n",
       " 'вон',\n",
       " 'хохл',\n",
       " 'хуж',\n",
       " 'есл',\n",
       " 'хохл',\n",
       " 'кисел',\n",
       " 'придума']"
      ]
     },
     "execution_count": 23,
     "metadata": {},
     "output_type": "execute_result"
    }
   ],
   "source": [
    "tokenize_sentetnce(sentence_example)"
   ]
  },
  {
   "cell_type": "markdown",
   "id": "2a1bef76",
   "metadata": {},
   "source": [
    "После того как готов массив токенов мы можем применять векторизацию. Создаём векторайзер. В нём переопределяем токенайзер на наш токенайзер."
   ]
  },
  {
   "cell_type": "code",
   "execution_count": 24,
   "id": "f397ff24",
   "metadata": {},
   "outputs": [],
   "source": [
    "vectorizer = TfidfVectorizer(tokenizer=lambda x: tokenize_sentetnce(x, remove_stop_words=True))"
   ]
  },
  {
   "cell_type": "markdown",
   "id": "ee92e336",
   "metadata": {},
   "source": [
    "Вызываем функцию ```fit_transform``` и передаём ему список наших предложений. Функция вернёт готовые фичи, которые можно будет передавать в модель машинного обучения"
   ]
  },
  {
   "cell_type": "code",
   "execution_count": 25,
   "id": "19a4f2e0",
   "metadata": {},
   "outputs": [],
   "source": [
    "features = vectorizer.fit_transform(train_df[\"comment\"])"
   ]
  },
  {
   "cell_type": "markdown",
   "id": "5b23e2d3",
   "metadata": {},
   "source": [
    "Фичи готовы, теперь можем обучать модель логистической регрессии. Сначала создаём класс логистической регрессии ```LogisticRegression```, передаём в неё ```random_state=0``` это делается для того, чтобы результаты были воспроизводимы. Потом вызываем метод ```fit```, который используется для обучения, куда передаём наши фичи(```features```) и лэйблы ```train_df[\"toxic\"]``` тоесть разметку коменнтариев"
   ]
  },
  {
   "cell_type": "code",
   "execution_count": 26,
   "id": "38f85d03",
   "metadata": {},
   "outputs": [
    {
     "data": {
      "text/plain": [
       "LogisticRegression(random_state=0)"
      ]
     },
     "execution_count": 26,
     "metadata": {},
     "output_type": "execute_result"
    }
   ],
   "source": [
    "model = LogisticRegression(random_state=0)\n",
    "model.fit(features, train_df[\"toxic\"])"
   ]
  },
  {
   "cell_type": "markdown",
   "id": "3760cbc4",
   "metadata": {},
   "source": [
    "Проверим как работает модель."
   ]
  },
  {
   "cell_type": "code",
   "execution_count": 27,
   "id": "5e7fe802",
   "metadata": {},
   "outputs": [
    {
     "data": {
      "text/plain": [
       "array([0], dtype=int64)"
      ]
     },
     "execution_count": 27,
     "metadata": {},
     "output_type": "execute_result"
    }
   ],
   "source": [
    "model.predict(features[0])"
   ]
  },
  {
   "cell_type": "markdown",
   "id": "8d97f843",
   "metadata": {},
   "source": [
    " Для первого коммента вернула то, что он нормальный попробуем его просто прочитать. Каждый раз разное!"
   ]
  },
  {
   "cell_type": "code",
   "execution_count": 28,
   "id": "5ab0fb22",
   "metadata": {},
   "outputs": [
    {
     "data": {
      "text/plain": [
       "'Интересная информация, особенно на фоне того, что Ростелеком поднял цены на интернет минимум на 150 руб. месяц назад.\\n'"
      ]
     },
     "execution_count": 28,
     "metadata": {},
     "output_type": "execute_result"
    }
   ],
   "source": [
    "train_df[\"comment\"].iloc[0]"
   ]
  },
  {
   "cell_type": "markdown",
   "id": "4cf7532a",
   "metadata": {},
   "source": [
    "Существует такой класс как ```Pipeline```, который позволяет соеденить создание фичей и уже модель"
   ]
  },
  {
   "cell_type": "code",
   "execution_count": 29,
   "id": "302b247a",
   "metadata": {},
   "outputs": [],
   "source": [
    "model_pipeline = Pipeline([\n",
    "    (\"vectorizer\", TfidfVectorizer(tokenizer=lambda x: tokenize_sentetnce(x, remove_stop_words=True))),\n",
    "    (\"model\", LogisticRegression(random_state=0))\n",
    "])"
   ]
  },
  {
   "cell_type": "markdown",
   "id": "ea73eebc",
   "metadata": {},
   "source": [
    "Мы передаём список предложений и лейблов для этих предложений"
   ]
  },
  {
   "cell_type": "code",
   "execution_count": 30,
   "id": "6618dcff",
   "metadata": {},
   "outputs": [
    {
     "data": {
      "text/plain": [
       "Pipeline(steps=[('vectorizer',\n",
       "                 TfidfVectorizer(tokenizer=<function <lambda> at 0x0000019C2890A0D0>)),\n",
       "                ('model', LogisticRegression(random_state=0))])"
      ]
     },
     "execution_count": 30,
     "metadata": {},
     "output_type": "execute_result"
    }
   ],
   "source": [
    "model_pipeline.fit(train_df[\"comment\"], train_df[\"toxic\"])"
   ]
  },
  {
   "cell_type": "markdown",
   "id": "7cc798cb",
   "metadata": {},
   "source": [
    "Попробуем придумать позитивный и негативный текст и посмотрим что он вернёт"
   ]
  },
  {
   "cell_type": "code",
   "execution_count": 31,
   "id": "cd2c4305",
   "metadata": {},
   "outputs": [
    {
     "data": {
      "text/plain": [
       "array([0], dtype=int64)"
      ]
     },
     "execution_count": 31,
     "metadata": {},
     "output_type": "execute_result"
    }
   ],
   "source": [
    "model_pipeline.predict([\"Привет, у меня всё нормально\"])"
   ]
  },
  {
   "cell_type": "code",
   "execution_count": 32,
   "id": "65fcc9cf",
   "metadata": {},
   "outputs": [
    {
     "data": {
      "text/plain": [
       "array([1], dtype=int64)"
      ]
     },
     "execution_count": 32,
     "metadata": {},
     "output_type": "execute_result"
    }
   ],
   "source": [
    "model_pipeline.predict([\"Слушай не пойти ли тебе нафиг отсюда?\"])"
   ]
  },
  {
   "cell_type": "markdown",
   "id": "b5427763",
   "metadata": {},
   "source": [
    "Исходя из этих двух примеров можно сказать, что модель работает нормально, но нам нужно измерить метрики"
   ]
  },
  {
   "cell_type": "code",
   "execution_count": 34,
   "id": "a0d6760e",
   "metadata": {},
   "outputs": [
    {
     "data": {
      "text/plain": [
       "0.8974358974358975"
      ]
     },
     "execution_count": 34,
     "metadata": {},
     "output_type": "execute_result"
    }
   ],
   "source": [
    "precision_score(y_true=test_df[\"toxic\"], y_pred=model_pipeline.predict(test_df[\"comment\"]))"
   ]
  },
  {
   "cell_type": "code",
   "execution_count": 35,
   "id": "1bf7291c",
   "metadata": {},
   "outputs": [
    {
     "data": {
      "text/plain": [
       "0.6104651162790697"
      ]
     },
     "execution_count": 35,
     "metadata": {},
     "output_type": "execute_result"
    }
   ],
   "source": [
    "recall_score(y_true=test_df[\"toxic\"], y_pred=model_pipeline.predict(test_df[\"comment\"]))"
   ]
  },
  {
   "cell_type": "markdown",
   "id": "7e3a0ebe",
   "metadata": {},
   "source": [
    "Нам нужен precision минимум 95, значит такая модель нам не подходит. Есть функция чтобы рисовать precision-recall кривую, порог меняется от 0 до 1 и в зависимости от него считается precision и recall и после этого рисуется граик зависимости."
   ]
  },
  {
   "cell_type": "code",
   "execution_count": 38,
   "id": "c9d4fa59",
   "metadata": {},
   "outputs": [],
   "source": [
    "prec, rec, thresholds = precision_recall_curve(y_true=test_df[\"toxic\"], probas_pred=model_pipeline.predict_proba(test_df[\"comment\"])[:, 1])"
   ]
  },
  {
   "cell_type": "markdown",
   "id": "55a6d4ec",
   "metadata": {},
   "source": [
    "Есть стандартная функция чтобы нарисовать эту кривую"
   ]
  },
  {
   "cell_type": "code",
   "execution_count": 39,
   "id": "1816b34f",
   "metadata": {},
   "outputs": [
    {
     "data": {
      "text/plain": [
       "<sklearn.metrics._plot.precision_recall_curve.PrecisionRecallDisplay at 0x19c1b0eebe0>"
      ]
     },
     "execution_count": 39,
     "metadata": {},
     "output_type": "execute_result"
    },
    {
     "data": {
      "image/png": "[encoded data removed]",
      "text/plain": [
       "<Figure size 432x288 with 1 Axes>"
      ]
     },
     "metadata": {
      "needs_background": "light"
     },
     "output_type": "display_data"
    }
   ],
   "source": [
    "plot_precision_recall_curve(estimator=model_pipeline, X=test_df[\"comment\"], y=test_df[\"toxic\"])"
   ]
  },
  {
   "cell_type": "markdown",
   "id": "ca3a190f",
   "metadata": {},
   "source": [
    "Необходимо найти момент где precision > 0.95"
   ]
  },
  {
   "cell_type": "code",
   "execution_count": 40,
   "id": "fe50db56",
   "metadata": {},
   "outputs": [
    {
     "data": {
      "text/plain": [
       "(array([404, 405, 406, 421, 422, 423, 424, 425, 426, 427], dtype=int64),)"
      ]
     },
     "execution_count": 40,
     "metadata": {},
     "output_type": "execute_result"
    }
   ],
   "source": [
    "np.where(prec > 0.95)"
   ]
  },
  {
   "cell_type": "markdown",
   "id": "ffa13448",
   "metadata": {},
   "source": [
    "Начиная с 404 значения порога значение precision удовлетворяет нашим условиям. Напечатаем минимальный порог, который нас устраивает."
   ]
  },
  {
   "cell_type": "code",
   "execution_count": 41,
   "id": "2d50ebca",
   "metadata": {},
   "outputs": [
    {
     "data": {
      "text/plain": [
       "0.8475278107995122"
      ]
     },
     "execution_count": 41,
     "metadata": {},
     "output_type": "execute_result"
    }
   ],
   "source": [
    "thresholds[404]"
   ]
  },
  {
   "cell_type": "markdown",
   "id": "90d2650a",
   "metadata": {},
   "source": [
    "Попробуем вызвать предсказание с этим порогом"
   ]
  },
  {
   "cell_type": "code",
   "execution_count": 42,
   "id": "c28a4231",
   "metadata": {},
   "outputs": [
    {
     "data": {
      "text/plain": [
       "0.9545454545454546"
      ]
     },
     "execution_count": 42,
     "metadata": {},
     "output_type": "execute_result"
    }
   ],
   "source": [
    "precision_score(y_true=test_df[\"toxic\"], y_pred=model_pipeline.predict_proba(test_df[\"comment\"])[:, 1] > thresholds[404])"
   ]
  },
  {
   "cell_type": "markdown",
   "id": "0aa616e2",
   "metadata": {},
   "source": [
    "Посчитаем recall при этом пороге"
   ]
  },
  {
   "cell_type": "code",
   "execution_count": 43,
   "id": "6812ebbe",
   "metadata": {},
   "outputs": [
    {
     "data": {
      "text/plain": [
       "0.12209302325581395"
      ]
     },
     "execution_count": 43,
     "metadata": {},
     "output_type": "execute_result"
    }
   ],
   "source": [
    "recall_score(y_true=test_df[\"toxic\"], y_pred=model_pipeline.predict_proba(test_df[\"comment\"])[:, 1] > thresholds[404])"
   ]
  },
  {
   "cell_type": "markdown",
   "id": "0e89129d",
   "metadata": {},
   "source": [
    "1. Попробуем подобрать гиперпараметры, которые её улучшат.\n",
    "2. https://scikit-learn.org/stable/modules/generated/sklearn.linear_model.LogisticRegression.html\n",
    "3. Попробуем различные коэффициенты регуляризации и посмотрим как это будет влиять на наши метрики\n",
    "4. Напишем новый пайплайн в котором будем использовать обёрнутый в GridSearchCV векторайзер и логистическую регрессию."
   ]
  },
  {
   "cell_type": "markdown",
   "id": "0852b60b",
   "metadata": {},
   "source": [
    "Передаём векторайзер как он у нас был раньше, а модель поменялась логистическая регрессия обёрнута в ```GridSearchCV```. Мы перебираем 3 коэффиицента регуляризации - стандарт это 1, берём в 10 раз меньше и в 10 раз больше. ```cv=3``` значит, что мы будем разбивать на 3 фолда во время кросвельдации и ```verbose=4``` значит что мы будем выводить всю информацию об обучении сюда "
   ]
  },
  {
   "cell_type": "code",
   "execution_count": 44,
   "id": "18e809ae",
   "metadata": {},
   "outputs": [],
   "source": [
    "grid_pipeline = Pipeline([\n",
    "    (\"vectorizer\", TfidfVectorizer(tokenizer=lambda x: tokenize_sentetnce(x, remove_stop_words=True))),\n",
    "    (\"model\",\n",
    "    GridSearchCV(\n",
    "        LogisticRegression(random_state=0),\n",
    "        param_grid={'C': [0.1, 1, 10.]},\n",
    "        cv=3,\n",
    "         verbose=4\n",
    "        )\n",
    "    )\n",
    "])"
   ]
  },
  {
   "cell_type": "code",
   "execution_count": 46,
   "id": "171291c4",
   "metadata": {},
   "outputs": [
    {
     "name": "stdout",
     "output_type": "stream",
     "text": [
      "Fitting 3 folds for each of 3 candidates, totalling 9 fits\n",
      "[CV 1/3] END .............................C=0.1;, score=0.687 total time=   1.1s\n",
      "[CV 2/3] END .............................C=0.1;, score=0.687 total time=   0.2s\n",
      "[CV 3/3] END .............................C=0.1;, score=0.686 total time=   0.2s\n",
      "[CV 1/3] END ...............................C=1;, score=0.837 total time=   0.5s\n",
      "[CV 2/3] END ...............................C=1;, score=0.835 total time=   0.4s\n",
      "[CV 3/3] END ...............................C=1;, score=0.836 total time=   0.4s\n"
     ]
    },
    {
     "name": "stderr",
     "output_type": "stream",
     "text": [
      "C:\\Users\\dikki\\anaconda3\\lib\\site-packages\\sklearn\\linear_model\\_logistic.py:763: ConvergenceWarning: lbfgs failed to converge (status=1):\n",
      "STOP: TOTAL NO. of ITERATIONS REACHED LIMIT.\n",
      "\n",
      "Increase the number of iterations (max_iter) or scale the data as shown in:\n",
      "    https://scikit-learn.org/stable/modules/preprocessing.html\n",
      "Please also refer to the documentation for alternative solver options:\n",
      "    https://scikit-learn.org/stable/modules/linear_model.html#logistic-regression\n",
      "  n_iter_i = _check_optimize_result(\n"
     ]
    },
    {
     "name": "stdout",
     "output_type": "stream",
     "text": [
      "[CV 1/3] END ............................C=10.0;, score=0.861 total time=   0.9s\n"
     ]
    },
    {
     "name": "stderr",
     "output_type": "stream",
     "text": [
      "C:\\Users\\dikki\\anaconda3\\lib\\site-packages\\sklearn\\linear_model\\_logistic.py:763: ConvergenceWarning: lbfgs failed to converge (status=1):\n",
      "STOP: TOTAL NO. of ITERATIONS REACHED LIMIT.\n",
      "\n",
      "Increase the number of iterations (max_iter) or scale the data as shown in:\n",
      "    https://scikit-learn.org/stable/modules/preprocessing.html\n",
      "Please also refer to the documentation for alternative solver options:\n",
      "    https://scikit-learn.org/stable/modules/linear_model.html#logistic-regression\n",
      "  n_iter_i = _check_optimize_result(\n"
     ]
    },
    {
     "name": "stdout",
     "output_type": "stream",
     "text": [
      "[CV 2/3] END ............................C=10.0;, score=0.868 total time=   0.9s\n"
     ]
    },
    {
     "name": "stderr",
     "output_type": "stream",
     "text": [
      "C:\\Users\\dikki\\anaconda3\\lib\\site-packages\\sklearn\\linear_model\\_logistic.py:763: ConvergenceWarning: lbfgs failed to converge (status=1):\n",
      "STOP: TOTAL NO. of ITERATIONS REACHED LIMIT.\n",
      "\n",
      "Increase the number of iterations (max_iter) or scale the data as shown in:\n",
      "    https://scikit-learn.org/stable/modules/preprocessing.html\n",
      "Please also refer to the documentation for alternative solver options:\n",
      "    https://scikit-learn.org/stable/modules/linear_model.html#logistic-regression\n",
      "  n_iter_i = _check_optimize_result(\n"
     ]
    },
    {
     "name": "stdout",
     "output_type": "stream",
     "text": [
      "[CV 3/3] END ............................C=10.0;, score=0.870 total time=   1.1s\n"
     ]
    },
    {
     "name": "stderr",
     "output_type": "stream",
     "text": [
      "C:\\Users\\dikki\\anaconda3\\lib\\site-packages\\sklearn\\linear_model\\_logistic.py:763: ConvergenceWarning: lbfgs failed to converge (status=1):\n",
      "STOP: TOTAL NO. of ITERATIONS REACHED LIMIT.\n",
      "\n",
      "Increase the number of iterations (max_iter) or scale the data as shown in:\n",
      "    https://scikit-learn.org/stable/modules/preprocessing.html\n",
      "Please also refer to the documentation for alternative solver options:\n",
      "    https://scikit-learn.org/stable/modules/linear_model.html#logistic-regression\n",
      "  n_iter_i = _check_optimize_result(\n"
     ]
    },
    {
     "data": {
      "text/plain": [
       "Pipeline(steps=[('vectorizer',\n",
       "                 TfidfVectorizer(tokenizer=<function <lambda> at 0x0000019C290DF8B0>)),\n",
       "                ('model',\n",
       "                 GridSearchCV(cv=3,\n",
       "                              estimator=LogisticRegression(random_state=0),\n",
       "                              param_grid={'C': [0.1, 1, 10.0]}, verbose=4))])"
      ]
     },
     "execution_count": 46,
     "metadata": {},
     "output_type": "execute_result"
    }
   ],
   "source": [
    "grid_pipeline.fit(train_df[\"comment\"], train_df[\"toxic\"])"
   ]
  },
  {
   "cell_type": "markdown",
   "id": "a5d1033f",
   "metadata": {},
   "source": [
    "Лучший показатель при коэффициенте регуляризации = 10. Но при этом модель не сошлась и ей не удалось обучиться ConvergenceWarning: lbfgs failed to converge (status=1). "
   ]
  },
  {
   "cell_type": "markdown",
   "id": "56a60894",
   "metadata": {},
   "source": [
    "Проверим и обучим новую модель используя коэффициент 10"
   ]
  },
  {
   "cell_type": "code",
   "execution_count": 48,
   "id": "419202df",
   "metadata": {},
   "outputs": [],
   "source": [
    "model_pipeline_c_10 = Pipeline([\n",
    "    (\"vectorizer\", TfidfVectorizer(tokenizer=lambda x: tokenize_sentetnce(x, remove_stop_words=True))),\n",
    "    (\"model\", LogisticRegression(random_state=0, C=10.))\n",
    "])"
   ]
  },
  {
   "cell_type": "code",
   "execution_count": 49,
   "id": "1a9fbde8",
   "metadata": {},
   "outputs": [
    {
     "name": "stderr",
     "output_type": "stream",
     "text": [
      "C:\\Users\\dikki\\anaconda3\\lib\\site-packages\\sklearn\\linear_model\\_logistic.py:763: ConvergenceWarning: lbfgs failed to converge (status=1):\n",
      "STOP: TOTAL NO. of ITERATIONS REACHED LIMIT.\n",
      "\n",
      "Increase the number of iterations (max_iter) or scale the data as shown in:\n",
      "    https://scikit-learn.org/stable/modules/preprocessing.html\n",
      "Please also refer to the documentation for alternative solver options:\n",
      "    https://scikit-learn.org/stable/modules/linear_model.html#logistic-regression\n",
      "  n_iter_i = _check_optimize_result(\n"
     ]
    },
    {
     "data": {
      "text/plain": [
       "Pipeline(steps=[('vectorizer',\n",
       "                 TfidfVectorizer(tokenizer=<function <lambda> at 0x0000019C2890A280>)),\n",
       "                ('model', LogisticRegression(C=10.0, random_state=0))])"
      ]
     },
     "execution_count": 49,
     "metadata": {},
     "output_type": "execute_result"
    }
   ],
   "source": [
    "model_pipeline_c_10.fit(train_df[\"comment\"], train_df[\"toxic\"])"
   ]
  },
  {
   "cell_type": "code",
   "execution_count": 50,
   "id": "ed534d61",
   "metadata": {},
   "outputs": [],
   "source": [
    "prec_c_10, rec_c_10, thresholds_c_10 = precision_recall_curve(y_true=test_df[\"toxic\"], probas_pred=model_pipeline_c_10.predict_proba(test_df[\"comment\"])[:, 1])"
   ]
  },
  {
   "cell_type": "code",
   "execution_count": 51,
   "id": "cdbd679a",
   "metadata": {},
   "outputs": [
    {
     "data": {
      "text/plain": [
       "(array([310, 311, 312, 313, 314, 319, 320, 321, 322, 323, 324, 325, 326,\n",
       "        327, 328, 329, 330, 331, 332, 333, 334, 335, 336, 337, 338, 339,\n",
       "        340, 341, 342, 343, 344, 345, 346, 347, 348, 349, 350, 351, 352,\n",
       "        353, 354, 375], dtype=int64),)"
      ]
     },
     "execution_count": 51,
     "metadata": {},
     "output_type": "execute_result"
    }
   ],
   "source": [
    "np.where(prec_c_10 > 0.95)"
   ]
  },
  {
   "cell_type": "code",
   "execution_count": 53,
   "id": "0a9c5466",
   "metadata": {
    "scrolled": true
   },
   "outputs": [
    {
     "data": {
      "text/plain": [
       "0.953125"
      ]
     },
     "execution_count": 53,
     "metadata": {},
     "output_type": "execute_result"
    }
   ],
   "source": [
    "precision_score(y_true=test_df[\"toxic\"], y_pred=model_pipeline_c_10.predict_proba(test_df[\"comment\"])[:, 1] > thresholds_c_10[310])"
   ]
  },
  {
   "cell_type": "code",
   "execution_count": 54,
   "id": "24239f73",
   "metadata": {},
   "outputs": [
    {
     "data": {
      "text/plain": [
       "0.3546511627906977"
      ]
     },
     "execution_count": 54,
     "metadata": {},
     "output_type": "execute_result"
    }
   ],
   "source": [
    "recall_score(y_true=test_df[\"toxic\"], y_pred=model_pipeline_c_10.predict_proba(test_df[\"comment\"])[:, 1] > thresholds_c_10[310])"
   ]
  },
  {
   "cell_type": "markdown",
   "id": "f4f36ba3",
   "metadata": {},
   "source": [
    "Мы смогли выявить в 3 раза больше негативных комментариев при этом сохранив хороший precision изменив коэффициент регуляризации"
   ]
  }
 ],
 "metadata": {
  "kernelspec": {
   "display_name": "Python 3 (ipykernel)",
   "language": "python",
   "name": "python3"
  },
  "language_info": {
   "codemirror_mode": {
    "name": "ipython",
    "version": 3
   },
   "file_extension": ".py",
   "mimetype": "text/x-python",
   "name": "python",
   "nbconvert_exporter": "python",
   "pygments_lexer": "ipython3",
   "version": "3.8.10"
  },
  "toc": {
   "base_numbering": 1,
   "nav_menu": {},
   "number_sections": true,
   "sideBar": true,
   "skip_h1_title": false,
   "title_cell": "Table of Contents",
   "title_sidebar": "Contents",
   "toc_cell": false,
   "toc_position": {},
   "toc_section_display": true,
   "toc_window_display": false
  },
  "varInspector": {
   "cols": {
    "lenName": 16,
    "lenType": 16,
    "lenVar": 40
   },
   "kernels_config": {
    "python": {
     "delete_cmd_postfix": "",
     "delete_cmd_prefix": "del ",
     "library": "var_list.py",
     "varRefreshCmd": "print(var_dic_list())"
    },
    "r": {
     "delete_cmd_postfix": ") ",
     "delete_cmd_prefix": "rm(",
     "library": "var_list.r",
     "varRefreshCmd": "cat(var_dic_list()) "
    }
   },
   "types_to_exclude": [
    "module",
    "function",
    "builtin_function_or_method",
    "instance",
    "_Feature"
   ],
   "window_display": false
  }
 },
 "nbformat": 4,
 "nbformat_minor": 5
}
