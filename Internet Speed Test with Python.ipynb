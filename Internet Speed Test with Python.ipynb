{
 "cells": [
  {
   "cell_type": "code",
   "execution_count": 11,
   "id": "3dee71a7",
   "metadata": {},
   "outputs": [
    {
     "name": "stdout",
     "output_type": "stream",
     "text": [
      "Загружвем спискок серверов...\n",
      "Выбираем лучший сервер...\n",
      "Найден: sptest2.mgts-spdop.ru:8080 находящийся в Russia\n"
     ]
    }
   ],
   "source": [
    "import speedtest\n",
    "test = speedtest.Speedtest()\n",
    "\n",
    "print(\"Загружвем спискок серверов...\")\n",
    "# Получаем список серверов\n",
    "test.get_servers()\n",
    "print(\"Выбираем лучший сервер...\")\n",
    "best = test.get_best_server()\n",
    "\n",
    "print(f\"Найден: {best['host']} находящийся в {best['country']}\")"
   ]
  },
  {
   "cell_type": "code",
   "execution_count": 12,
   "id": "2baf1e62",
   "metadata": {
    "scrolled": true
   },
   "outputs": [
    {
     "name": "stdout",
     "output_type": "stream",
     "text": [
      "Выполнение теста скачивания...\n",
      "Выполнение теста загрузки...\n"
     ]
    }
   ],
   "source": [
    "print(\"Выполнение теста скачивания...\")\n",
    "download_result = test.download()\n",
    "print(\"Выполнение теста загрузки...\")\n",
    "upload_result = test.upload()\n",
    "ping_result = test.results.ping"
   ]
  },
  {
   "cell_type": "code",
   "execution_count": 13,
   "id": "d85974bd",
   "metadata": {},
   "outputs": [
    {
     "name": "stdout",
     "output_type": "stream",
     "text": [
      "Скорость скачивания: 10.34 Mbit/s\n",
      "Скорость загрузки: 2.94 Mbit/s\n",
      "Пинг: 28.41 ms\n"
     ]
    }
   ],
   "source": [
    "print(f\"Скорость скачивания: {download_result / 1024 /1024:.2f} Mbit/s\")\n",
    "print(f\"Скорость загрузки: {upload_result / 1024 /1024:.2f} Mbit/s\")\n",
    "print(f\"Пинг: {ping_result:.2f} ms\")"
   ]
  }
 ],
 "metadata": {
  "kernelspec": {
   "display_name": "Python 3",
   "language": "python",
   "name": "python3"
  },
  "language_info": {
   "codemirror_mode": {
    "name": "ipython",
    "version": 3
   },
   "file_extension": ".py",
   "mimetype": "text/x-python",
   "name": "python",
   "nbconvert_exporter": "python",
   "pygments_lexer": "ipython3",
   "version": "3.8.5"
  }
 },
 "nbformat": 4,
 "nbformat_minor": 5
}
